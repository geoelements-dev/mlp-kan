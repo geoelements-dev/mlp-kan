{
 "cells": [
  {
   "cell_type": "code",
   "execution_count": 11,
   "metadata": {},
   "outputs": [],
   "source": [
    "import numpy as np \n",
    "import matplotlib.pyplot as plt\n",
    "import os \n",
    "\n",
    "resultdir = './Results/'\n",
    "save = True"
   ]
  },
  {
   "cell_type": "code",
   "execution_count": 12,
   "metadata": {},
   "outputs": [],
   "source": [
    "iteration_list_dense = np.load('./iteration_list_dense.npy')\n",
    "iteration_list_KAN = np.load('./iteration_list_dense.npy')\n",
    "iteration_list_KAN2np1 = np.load('./iteration_list_dense.npy')\n",
    "\n",
    "loss_list_dense = np.load('./loss_list_dense.npy')\n",
    "loss_list_KAN = np.load('./loss_list_KAN.npy')\n",
    "loss_list_KAN2np1 = np.load('./loss_list_KAN2np1.npy')\n",
    "\n",
    "assert iteration_list_dense.all() == iteration_list_KAN.all()\n",
    "assert iteration_list_KAN2np1.all() == iteration_list_KAN.all()"
   ]
  },
  {
   "cell_type": "code",
   "execution_count": 17,
   "metadata": {},
   "outputs": [],
   "source": [
    "interval = 100\n",
    "\n",
    "plt.figure()\n",
    "plt.plot(iteration_list_dense[::interval], loss_list_dense[::interval], 'r', label = 'MLP')\n",
    "plt.plot(iteration_list_dense[::interval], loss_list_KAN[::interval], 'g', label = 'KAN same size as MLP net')\n",
    "plt.plot(iteration_list_dense[::interval], loss_list_KAN2np1[::interval], 'b', label = 'KAN 2np1')\n",
    "plt.yscale(\"log\")\n",
    "plt.xlabel('Iterations')\n",
    "plt.ylabel('Training loss')\n",
    "plt.legend()\n",
    "plt.tight_layout()\n",
    "if save == True:\n",
    "    plt.savefig(os.path.join(resultdir,'compare_loss.pdf'))"
   ]
  },
  {
   "cell_type": "code",
   "execution_count": null,
   "metadata": {},
   "outputs": [],
   "source": []
  }
 ],
 "metadata": {
  "kernelspec": {
   "display_name": "Python 3",
   "language": "python",
   "name": "python3"
  },
  "language_info": {
   "codemirror_mode": {
    "name": "ipython",
    "version": 3
   },
   "file_extension": ".py",
   "mimetype": "text/x-python",
   "name": "python",
   "nbconvert_exporter": "python",
   "pygments_lexer": "ipython3",
   "version": "3.9.7"
  }
 },
 "nbformat": 4,
 "nbformat_minor": 2
}
